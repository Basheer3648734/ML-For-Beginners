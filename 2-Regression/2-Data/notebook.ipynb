{
 "cells": [
  {
   "cell_type": "code",
   "execution_count": 3,
   "metadata": {},
   "outputs": [
    {
     "name": "stdout",
     "output_type": "stream",
     "text": [
      "   City Name Type       Package      Variety Sub Variety  Grade     Date  \\\n",
      "0  BALTIMORE  NaN  24 inch bins          NaN         NaN    NaN  4/29/17   \n",
      "1  BALTIMORE  NaN  24 inch bins          NaN         NaN    NaN   5/6/17   \n",
      "2  BALTIMORE  NaN  24 inch bins  HOWDEN TYPE         NaN    NaN  9/24/16   \n",
      "3  BALTIMORE  NaN  24 inch bins  HOWDEN TYPE         NaN    NaN  9/24/16   \n",
      "4  BALTIMORE  NaN  24 inch bins  HOWDEN TYPE         NaN    NaN  11/5/16   \n",
      "\n",
      "   Low Price  High Price  Mostly Low  ...  Unit of Sale Quality Condition  \\\n",
      "0      270.0       280.0       270.0  ...           NaN     NaN       NaN   \n",
      "1      270.0       280.0       270.0  ...           NaN     NaN       NaN   \n",
      "2      160.0       160.0       160.0  ...           NaN     NaN       NaN   \n",
      "3      160.0       160.0       160.0  ...           NaN     NaN       NaN   \n",
      "4       90.0       100.0        90.0  ...           NaN     NaN       NaN   \n",
      "\n",
      "  Appearance Storage  Crop Repack  Trans Mode  Unnamed: 24  Unnamed: 25  \n",
      "0        NaN     NaN   NaN      E         NaN          NaN          NaN  \n",
      "1        NaN     NaN   NaN      E         NaN          NaN          NaN  \n",
      "2        NaN     NaN   NaN      N         NaN          NaN          NaN  \n",
      "3        NaN     NaN   NaN      N         NaN          NaN          NaN  \n",
      "4        NaN     NaN   NaN      N         NaN          NaN          NaN  \n",
      "\n",
      "[5 rows x 26 columns]\n"
     ]
    }
   ],
   "source": [
    "import pandas as pd\n",
    "\n",
    "df = pd.read_csv(\"../data/US-pumpkins.csv\")\n",
    "print(df.head())"
   ]
  },
  {
   "cell_type": "code",
   "execution_count": 7,
   "metadata": {},
   "outputs": [
    {
     "data": {
      "text/plain": [
       "City Name             0\n",
       "Type               1712\n",
       "Package               0\n",
       "Variety               5\n",
       "Sub Variety        1461\n",
       "Grade              1757\n",
       "Date                  0\n",
       "Low Price             0\n",
       "High Price            0\n",
       "Mostly Low          103\n",
       "Mostly High         103\n",
       "Origin                3\n",
       "Origin District    1626\n",
       "Item Size           279\n",
       "Color               616\n",
       "Environment        1757\n",
       "Unit of Sale       1595\n",
       "Quality            1757\n",
       "Condition          1757\n",
       "Appearance         1757\n",
       "Storage            1757\n",
       "Crop               1757\n",
       "Repack                0\n",
       "Trans Mode         1757\n",
       "Unnamed: 24        1757\n",
       "Unnamed: 25        1654\n",
       "dtype: int64"
      ]
     },
     "execution_count": 7,
     "metadata": {},
     "output_type": "execute_result"
    }
   ],
   "source": [
    "df.isnull().sum()"
   ]
  },
  {
   "cell_type": "code",
   "execution_count": 11,
   "metadata": {},
   "outputs": [
    {
     "name": "stdout",
     "output_type": "stream",
     "text": [
      "        Package  Low Price  High Price     Date\n",
      "0  24 inch bins      270.0       280.0  4/29/17\n",
      "1  24 inch bins      270.0       280.0   5/6/17\n",
      "2  24 inch bins      160.0       160.0  9/24/16\n",
      "3  24 inch bins      160.0       160.0  9/24/16\n",
      "4  24 inch bins       90.0       100.0  11/5/16\n"
     ]
    }
   ],
   "source": [
    "df.columns\n",
    "required_columns = ['Package', 'Low Price', 'High Price', 'Date']\n",
    "df = df.loc[:, required_columns]\n",
    "print(df.head())"
   ]
  },
  {
   "cell_type": "code",
   "execution_count": 13,
   "metadata": {},
   "outputs": [
    {
     "name": "stdout",
     "output_type": "stream",
     "text": [
      "        Package  Month  Low Price  High Price  Price\n",
      "0  24 inch bins      4      270.0       280.0  275.0\n",
      "1  24 inch bins      5      270.0       280.0  275.0\n",
      "2  24 inch bins      9      160.0       160.0  160.0\n",
      "3  24 inch bins      9      160.0       160.0  160.0\n",
      "4  24 inch bins     11       90.0       100.0   95.0\n"
     ]
    }
   ],
   "source": [
    "price = (df['Low Price'] + df['High Price']) / 2\n",
    "month = pd.DatetimeIndex(df['Date']).month\n",
    "\n",
    "pumpkin = pd.DataFrame({'Package': df['Package'], 'Month': month, 'Low Price': df['Low Price'], 'High Price': df['High Price'], 'Price': price})\n",
    "\n",
    "print(pumpkin.head())"
   ]
  },
  {
   "cell_type": "code",
   "execution_count": 14,
   "metadata": {},
   "outputs": [
    {
     "name": "stdout",
     "output_type": "stream",
     "text": [
      "                   Package  Month  Low Price  High Price   Price\n",
      "70    1 1/9 bushel cartons      9      15.00        15.0  15.000\n",
      "71    1 1/9 bushel cartons      9      18.00        18.0  18.000\n",
      "72    1 1/9 bushel cartons     10      18.00        18.0  18.000\n",
      "73    1 1/9 bushel cartons     10      17.00        17.0  17.000\n",
      "74    1 1/9 bushel cartons     10      15.00        15.0  15.000\n",
      "...                    ...    ...        ...         ...     ...\n",
      "1738    1/2 bushel cartons      9      15.00        15.0  15.000\n",
      "1739    1/2 bushel cartons      9      13.75        15.0  14.375\n",
      "1740    1/2 bushel cartons      9      10.75        15.0  12.875\n",
      "1741    1/2 bushel cartons      9      12.00        12.0  12.000\n",
      "1742    1/2 bushel cartons      9      12.00        12.0  12.000\n",
      "\n",
      "[415 rows x 5 columns]\n"
     ]
    }
   ],
   "source": [
    "pumpkin = pumpkin[pumpkin['Package'].str.contains('bushel', case=True, regex=True)]\n",
    "print(pumpkin)"
   ]
  },
  {
   "cell_type": "code",
   "execution_count": 15,
   "metadata": {},
   "outputs": [],
   "source": [
    "pumpkin.loc[pumpkin['Package'].str.contains('1 1/9'), 'Price'] = price / (1+1/9)\n",
    "pumpkin.loc[pumpkin['Package'].str.contains('1/2'), 'Price'] = price/(1/2)"
   ]
  },
  {
   "cell_type": "code",
   "execution_count": 16,
   "metadata": {},
   "outputs": [
    {
     "name": "stdout",
     "output_type": "stream",
     "text": [
      "                   Package  Month  Low Price  High Price  Price\n",
      "70    1 1/9 bushel cartons      9      15.00        15.0  13.50\n",
      "71    1 1/9 bushel cartons      9      18.00        18.0  16.20\n",
      "72    1 1/9 bushel cartons     10      18.00        18.0  16.20\n",
      "73    1 1/9 bushel cartons     10      17.00        17.0  15.30\n",
      "74    1 1/9 bushel cartons     10      15.00        15.0  13.50\n",
      "...                    ...    ...        ...         ...    ...\n",
      "1738    1/2 bushel cartons      9      15.00        15.0  30.00\n",
      "1739    1/2 bushel cartons      9      13.75        15.0  28.75\n",
      "1740    1/2 bushel cartons      9      10.75        15.0  25.75\n",
      "1741    1/2 bushel cartons      9      12.00        12.0  24.00\n",
      "1742    1/2 bushel cartons      9      12.00        12.0  24.00\n",
      "\n",
      "[415 rows x 5 columns]\n"
     ]
    }
   ],
   "source": [
    "print(pumpkin)"
   ]
  },
  {
   "cell_type": "code",
   "execution_count": 22,
   "metadata": {},
   "outputs": [
    {
     "name": "stderr",
     "output_type": "stream",
     "text": [
      "C:\\Users\\bk364\\AppData\\Local\\Temp\\ipykernel_15284\\538349415.py:12: UserWarning: Matplotlib is currently using module://matplotlib_inline.backend_inline, which is a non-GUI backend, so cannot show the figure.\n",
      "  fig.show()\n"
     ]
    },
    {
     "data": {
      "image/png": "[encoded data removed]",
      "text/plain": [
       "<Figure size 1000x400 with 1 Axes>"
      ]
     },
     "metadata": {},
     "output_type": "display_data"
    }
   ],
   "source": [
    "%matplotlib inline\n",
    "import matplotlib.pyplot as plt\n",
    "\n",
    "fig = plt.figure(figsize=(10,4))\n",
    "price = pumpkin.Price\n",
    "month = pumpkin.Month\n",
    "plt.bar(x=month, height=price, color='orange')\n",
    "plt.xlabel('Month')\n",
    "plt.ylabel('Price')\n",
    "plt.grid(color='black', linestyle='--')\n",
    "plt.title('Pumpkin data')\n",
    "fig.show()"
   ]
  }
 ],
 "metadata": {
  "kernelspec": {
   "display_name": "Python 3",
   "language": "python",
   "name": "python3"
  },
  "language_info": {
   "codemirror_mode": {
    "name": "ipython",
    "version": 3
   },
   "file_extension": ".py",
   "mimetype": "text/x-python",
   "name": "python",
   "nbconvert_exporter": "python",
   "pygments_lexer": "ipython3",
   "version": "3.10.1"
  },
  "orig_nbformat": 2
 },
 "nbformat": 4,
 "nbformat_minor": 2
}
